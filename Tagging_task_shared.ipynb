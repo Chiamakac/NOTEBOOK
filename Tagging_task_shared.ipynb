{
  "nbformat": 4,
  "nbformat_minor": 0,
  "metadata": {
    "colab": {
      "provenance": [],
      "authorship_tag": "ABX9TyP+ZgzXh9J0dBde30iVsyqa",
      "include_colab_link": true
    },
    "kernelspec": {
      "name": "python3",
      "display_name": "Python 3"
    },
    "language_info": {
      "name": "python"
    }
  },
  "cells": [
    {
      "cell_type": "markdown",
      "metadata": {
        "id": "view-in-github",
        "colab_type": "text"
      },
      "source": [
        "<a href=\"https://colab.research.google.com/github/Chiamakac/NOTEBOOK/blob/main/Tagging_task_shared.ipynb\" target=\"_parent\"><img src=\"https://colab.research.google.com/assets/colab-badge.svg\" alt=\"Open In Colab\"/></a>"
      ]
    },
    {
      "cell_type": "code",
      "execution_count": null,
      "metadata": {
        "id": "KxUpYjGmP4K_"
      },
      "outputs": [],
      "source": [
        "# importing the libraries \n",
        "import os\n",
        "import pandas as pd\n",
        "import json"
      ]
    },
    {
      "cell_type": "code",
      "source": [
        "#change directory to where you saved the files you need to work on\n",
        "cd 'drive/MyDrive/DAVY_NOTEBOOK'"
      ],
      "metadata": {
        "id": "XXy9R4GKRza-"
      },
      "execution_count": null,
      "outputs": []
    },
    {
      "cell_type": "code",
      "source": [
        "#defining the variables\n",
        "def chem_tagger(text_str, chem_list):\n",
        "  for i in range(len(chem_list)):\n",
        "    chem_id, chem = chem_list.iloc[i]\n",
        "    text_str = text_str.replace(f\" {chem} \", f\" [chemical]{chem_id}|{chem}[/chemical] \")\n",
        "  return text_str"
      ],
      "metadata": {
        "id": "sfSVrnO-SpRL"
      },
      "execution_count": null,
      "outputs": []
    },
    {
      "cell_type": "code",
      "source": [
        "#Read chemical v3.xlsx file\n",
        "chemical_pd = pd.read_excel('chemical v3.xlsx', header=0)[['id', 'chemical']]"
      ],
      "metadata": {
        "id": "5pTep-L1S0Xs"
      },
      "execution_count": null,
      "outputs": []
    },
    {
      "cell_type": "code",
      "source": [
        "#Read the json files \n",
        "transcription_folders  = [filename for filename in os.listdir() \n",
        "                                      if filename.startswith('transcription_')]"
      ],
      "metadata": {
        "id": "U9HnQVZzucjU"
      },
      "execution_count": null,
      "outputs": []
    },
    {
      "cell_type": "code",
      "source": [
        "#Tagging\n",
        "for folder in transcription_folders:\n",
        "  raw_data_file = [os.path.join(folder, f) for f in os.listdir(folder) if f.startswith('raw_data')][0]\n",
        "  with open(raw_data_file, 'r') as infile:\n",
        "    infile_data = json.load(infile)\n",
        "  for i in range(len(infile_data['frame0'])):\n",
        "    consensus_text = infile_data['frame0'][i]['consensus_text'].lower()\n",
        "    infile_data['frame0'][i]['edited_consensus_text'] = chem_tagger(consensus_text, chemical_pd)\n",
        "\n",
        "    # saving the modified 'infile_data' in the current folder: 'folder/raw_data_file' \n",
        "    with open(f\"{raw_data_file[:-5]}_chem_tagged.json\", \"w\") as fp:\n",
        "        json.dump(infile_data , fp)     "
      ],
      "metadata": {
        "id": "nAp8sNv_u6hF"
      },
      "execution_count": null,
      "outputs": []
    }
  ]
}